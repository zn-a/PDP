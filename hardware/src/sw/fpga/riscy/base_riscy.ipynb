{
 "cells": [
  {
   "cell_type": "markdown",
   "metadata": {},
   "source": [
    "# Base Riscy Notebook\n",
    "\n",
    "This notebook is supposed to exemplify how to set up and launch the execution of your core in the FPGA.\n",
    "\n",
    "It is recommended to make a duplicate of this notebook that you can edit and change all the paths/names from `base_riscy` to `riscy` so you can always keep the initial version of both the overlay and the control of the core in a working state."
   ]
  },
  {
   "cell_type": "markdown",
   "metadata": {},
   "source": [
    "## Initialization of the notebook\n",
    "\n",
    "A series of packages need to be imported, as well as defining a few variables and functions"
   ]
  },
  {
   "cell_type": "code",
   "execution_count": null,
   "metadata": {},
   "outputs": [],
   "source": [
    "from pynq import Overlay\n",
    "from pynq import PL\n",
    "from pynq import MMIO\n",
    "\n",
    "zynq_system = Overlay(\"/home/xilinx/jupyter_notebooks/riscy/overlays/base_riscy.bit\", download=False)\n",
    "\n",
    "ins_mem       = MMIO(0x40000000, 0x8000)\n",
    "data_mem      = MMIO(0x42000000, 0x8000)\n",
    "riscv_control = MMIO(0x40008000, 0x1000)\n",
    "reg_bank      = MMIO(0x40009000, 0x1000)\n",
    "\n",
    "#Register Bank Addresses:\n",
    "end_of_test_addr = 0x0 #only bit 0 out of 32.\n",
    "exec_clk_cycles = 0x4\n",
    "\n",
    "#Data mem addresses:\n",
    "end_seq_addr = 0x2000\n",
    "c_result_check_addr = 0x2004\n",
    "expected_result_addr = 0x2030\n",
    "calculated_result_addr = 0x2040\n",
    "\n",
    "def parse_coe_file(file_path):\n",
    "    data_values = []\n",
    "    with open(file_path, 'r') as file:\n",
    "        lines = file.readlines()\n",
    "        start_parsing = False\n",
    "        \n",
    "        for line in lines:\n",
    "            line = line.strip()\n",
    "            \n",
    "            if start_parsing:\n",
    "                values = line.split(',')\n",
    "                data_values.extend([v.strip() for v in values if v.strip()])\n",
    "            \n",
    "            if \"memory_initialization_vector=\" in line:\n",
    "                start_parsing = True\n",
    "                line = line.split(\"=\")[1]  # Get the values after '='\n",
    "                values = line.split(',')\n",
    "                data_values.extend([v.strip() for v in values if v.strip()])\n",
    "                print(data_values)\n",
    "    \n",
    "    return data_values\n",
    "\n",
    "def parse_and_process_file(filename, write_func):\n",
    "    data_values = parse_coe_file(filename)\n",
    "    count = 0\n",
    "    offset = 0x0\n",
    "    \n",
    "    #print(f\"Length of memory file: {len(data_values)} x 32-bits\")\n",
    "    while count < len(data_values):\n",
    "        write_func(offset, int(data_values[count], 16))\n",
    "        #print(f\"Write {hex(offset)}: {hex(int(data_values[count], 16))}\")\n",
    "        offset += 0x4\n",
    "        count += 1"
   ]
  },
  {
   "cell_type": "markdown",
   "metadata": {},
   "source": [
    "### Downloading the FPGA image (bitstream)\n",
    "\n",
    "Now we will download the bistream into the PL of the FPGA:"
   ]
  },
  {
   "cell_type": "code",
   "execution_count": null,
   "metadata": {},
   "outputs": [],
   "source": [
    "zynq_system.download()"
   ]
  },
  {
   "cell_type": "markdown",
   "metadata": {},
   "source": [
    "## Control of the RISCY Core\n",
    "\n",
    "Two top level pins of the RISCY core are connected to a control block (reboot_riscv_0 in the bd).\n",
    "\n",
    "This block has a base address of `0x40008000`, but the relative offset of the 32-bit register controlling the connected riscv instance pins is `0x10`.\n",
    "This 32-bit register is connected as follows:\n",
    "\n",
    "* bit 4 = fetch_enable port\n",
    "* bit 0 = reboot port\n",
    "\n",
    "The default value of the control register is: `0x00000000`."
   ]
  },
  {
   "cell_type": "markdown",
   "metadata": {},
   "source": [
    "### Rebooting the RISCY Core\n",
    "\n",
    "We will start by asserting high and deasserting the register bit that is connected to the reboot pin of the riscv core:"
   ]
  },
  {
   "cell_type": "code",
   "execution_count": null,
   "metadata": {},
   "outputs": [],
   "source": [
    "data = riscv_control.read(0x10)\n",
    "print(f\"Read: {hex(data)}\")\n",
    "riscv_control.write(0x10, 0x00000001)\n",
    "data = riscv_control.read(0x10)\n",
    "print(f\"Read: {hex(data)}\")\n",
    "riscv_control.write(0x10, 0x00000000)\n",
    "data = riscv_control.read(0x10)\n",
    "print(f\"Read: {hex(data)}\")"
   ]
  },
  {
   "cell_type": "markdown",
   "metadata": {},
   "source": [
    "### Programming the instruction memory\n",
    "\n",
    "Now that the riscv core is rebooted and stalling we can proceed to write our desired initialization sequences in the instruction memory (blk_mem_gen_1):"
   ]
  },
  {
   "cell_type": "code",
   "execution_count": null,
   "metadata": {},
   "outputs": [],
   "source": [
    "parse_and_process_file(\"/home/xilinx/jupyter_notebooks/riscy/mem_files/code.coe\", ins_mem.write_reg)"
   ]
  },
  {
   "cell_type": "code",
   "execution_count": null,
   "metadata": {},
   "outputs": [],
   "source": [
    "# We can also read the instruction memory:\n",
    "data=0x0\n",
    "addr=0x0\n",
    "for i in range(20):\n",
    "    data = ins_mem.read(addr)\n",
    "    print(f\"Address is: {hex(addr)}; Value is: {hex(data)}.\")\n",
    "    addr += 0x4"
   ]
  },
  {
   "cell_type": "markdown",
   "metadata": {},
   "source": [
    "### Programming the data memory\n",
    "\n",
    "Same as before with the data memory (blk_mem_gen_2 in the bd):"
   ]
  },
  {
   "cell_type": "code",
   "execution_count": null,
   "metadata": {},
   "outputs": [],
   "source": [
    "parse_and_process_file(\"/home/xilinx/jupyter_notebooks/riscy/mem_files/data.coe\", data_mem.write_reg)"
   ]
  },
  {
   "cell_type": "code",
   "execution_count": null,
   "metadata": {},
   "outputs": [],
   "source": [
    "# We can also read the data memory:\n",
    "data=0x0\n",
    "addr=0x0\n",
    "for i in range(20):\n",
    "    data = data_mem.read(addr)\n",
    "    print(f\"Address is: {hex(addr)}; Value is: {hex(data)}.\")\n",
    "    addr += 0x4"
   ]
  },
  {
   "cell_type": "markdown",
   "metadata": {},
   "source": [
    "### Starting the execution of the RISCY Core\n",
    "\n",
    "Now we can proceed to assert high to the fetch enable pin of the RISCY core:"
   ]
  },
  {
   "cell_type": "code",
   "execution_count": null,
   "metadata": {},
   "outputs": [],
   "source": [
    "data = riscv_control.read(0x10)\n",
    "print(f\"Read: {hex(data)}\")\n",
    "riscv_control.write(0x10, 0x0000_0010)\n",
    "data = riscv_control.read(0x10)\n",
    "print(f\"Read: {hex(data)}\")"
   ]
  },
  {
   "cell_type": "markdown",
   "metadata": {},
   "source": [
    "### Check the results of the execution of the core\n",
    "\n",
    "First we check that the core finished execution.\n",
    "Then we check expected and calculated results by the core.\n",
    "Core also compares them and saves a sequence to indicate if the match or not.\n",
    "Check numnber of clk cycles it took to execute the C code."
   ]
  },
  {
   "cell_type": "code",
   "execution_count": null,
   "metadata": {},
   "outputs": [],
   "source": [
    "data = reg_bank.read(end_of_test_addr)\n",
    "if data == 1:\n",
    "    print(\"Test execution finished!\")\n",
    "else:\n",
    "    print(\"Test execution DID NOT finish!\")"
   ]
  },
  {
   "cell_type": "code",
   "execution_count": null,
   "metadata": {},
   "outputs": [],
   "source": [
    "for i in range(4):\n",
    "    data = data_mem.read(expected_result_addr + (i * 4))\n",
    "    print(f\"[{i}] Expected result: {hex(data)}\")"
   ]
  },
  {
   "cell_type": "code",
   "execution_count": null,
   "metadata": {},
   "outputs": [],
   "source": [
    "for i in range(4):\n",
    "    data = data_mem.read(calculated_result_addr + (i * 4))\n",
    "    print(f\"[{i}] Calculated result: {hex(data)}\")"
   ]
  },
  {
   "cell_type": "code",
   "execution_count": null,
   "metadata": {},
   "outputs": [],
   "source": [
    "data = data_mem.read(c_result_check_addr)\n",
    "print(f\"C code result check: {hex(data)}\")\n",
    "print(f\"0xcafebabe = match; 0xbaaaaaad = no match.\")"
   ]
  },
  {
   "cell_type": "code",
   "execution_count": null,
   "metadata": {},
   "outputs": [],
   "source": [
    "data = reg_bank.read(exec_clk_cycles)\n",
    "print(f\"It took: {data} clk cycles.\")"
   ]
  }
 ],
 "metadata": {
  "kernelspec": {
   "display_name": "base",
   "language": "python",
   "name": "python3"
  },
  "language_info": {
   "codemirror_mode": {
    "name": "ipython",
    "version": 3
   },
   "file_extension": ".py",
   "mimetype": "text/x-python",
   "name": "python",
   "nbconvert_exporter": "python",
   "pygments_lexer": "ipython3",
   "version": "3.12.4"
  }
 },
 "nbformat": 4,
 "nbformat_minor": 2
}
